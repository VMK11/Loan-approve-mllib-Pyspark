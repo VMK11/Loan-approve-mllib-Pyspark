{
 "cells": [
  {
   "cell_type": "markdown",
   "metadata": {},
   "source": [
    "## 1. Set SQL context and import necessary libraries"
   ]
  },
  {
   "cell_type": "code",
   "execution_count": 1,
   "metadata": {},
   "outputs": [],
   "source": [
    "import findspark\n",
    "findspark.init()\n",
    "import pyspark # only run after findspark.init()\n",
    "from pyspark.sql import SparkSession\n",
    "import pandas as pd"
   ]
  },
  {
   "cell_type": "code",
   "execution_count": 2,
   "metadata": {},
   "outputs": [],
   "source": [
    "spark = SparkSession.builder.getOrCreate()\n",
    "\n",
    "sc = spark.sparkContext"
   ]
  },
  {
   "cell_type": "code",
   "execution_count": 4,
   "metadata": {},
   "outputs": [
    {
     "name": "stderr",
     "output_type": "stream",
     "text": [
      "C:\\Users\\billis\\Anaconda3\\Lib\\site-packages\\IPython\\core\\interactiveshell.py:2728: DtypeWarning: Columns (6,7,8,10,11,12,13) have mixed types. Specify dtype option on import or set low_memory=False.\n",
      "  interactivity=interactivity, compiler=compiler, result=result)\n"
     ]
    }
   ],
   "source": [
    "header = ['Date_Disbursement','Date_Maturity','State','DAT_BIRTH_CUST','TXT_CUST_SEX','MAR_STATUS','loan_period','loan_amount','Balance_Book','NAM_PRODUCT','Installment_amount','int_rate','Total_Amount_Arrears','number_of_installment_Arrear','Class']\n",
    "\n",
    "df_1 = pd.read_csv('Data/salma_31-12-2017_sheet_1.csv', names = header)\n",
    "df_2 = pd.read_csv('Data/salma_31-12-2017_sheet_2.csv' , names = header)\n",
    "df_3 = pd.read_csv('Data/salma_31-12-2017_sheet_3.csv' , names = header)\n",
    "\n",
    "frames = [df_1, df_2, df_3]\n",
    "result = pd.concat(frames,ignore_index=True)\n",
    "#df_conc_without_dup =  result.drop_duplicates(keep = False)\n",
    "\n"
   ]
  },
  {
   "cell_type": "code",
   "execution_count": 7,
   "metadata": {},
   "outputs": [
    {
     "data": {
      "text/html": [
       "<div>\n",
       "<style scoped>\n",
       "    .dataframe tbody tr th:only-of-type {\n",
       "        vertical-align: middle;\n",
       "    }\n",
       "\n",
       "    .dataframe tbody tr th {\n",
       "        vertical-align: top;\n",
       "    }\n",
       "\n",
       "    .dataframe thead th {\n",
       "        text-align: right;\n",
       "    }\n",
       "</style>\n",
       "<table border=\"1\" class=\"dataframe\">\n",
       "  <thead>\n",
       "    <tr style=\"text-align: right;\">\n",
       "      <th></th>\n",
       "      <th>Date_Disbursement</th>\n",
       "      <th>Date_Maturity</th>\n",
       "      <th>State</th>\n",
       "      <th>DAT_BIRTH_CUST</th>\n",
       "      <th>TXT_CUST_SEX</th>\n",
       "      <th>MAR_STATUS</th>\n",
       "      <th>loan_period</th>\n",
       "      <th>loan_amount</th>\n",
       "      <th>Balance_Book</th>\n",
       "      <th>NAM_PRODUCT</th>\n",
       "      <th>Installment_amount</th>\n",
       "      <th>int_rate</th>\n",
       "      <th>Total_Amount_Arrears</th>\n",
       "      <th>number_of_installment_Arrear</th>\n",
       "      <th>Class</th>\n",
       "    </tr>\n",
       "  </thead>\n",
       "  <tbody>\n",
       "    <tr>\n",
       "      <th>1</th>\n",
       "      <td>10/28/2004</td>\n",
       "      <td>10/31/2009</td>\n",
       "      <td>Cairo</td>\n",
       "      <td>10/24/1953</td>\n",
       "      <td>F</td>\n",
       "      <td>Married</td>\n",
       "      <td>60</td>\n",
       "      <td>23000</td>\n",
       "      <td>0</td>\n",
       "      <td>Loan of government employees- New</td>\n",
       "      <td>536.67</td>\n",
       "      <td>8</td>\n",
       "      <td>0</td>\n",
       "      <td>0</td>\n",
       "      <td>ND</td>\n",
       "    </tr>\n",
       "    <tr>\n",
       "      <th>2</th>\n",
       "      <td>11/3/2004</td>\n",
       "      <td>11/30/2009</td>\n",
       "      <td>Cairo</td>\n",
       "      <td>5/15/1954</td>\n",
       "      <td>M</td>\n",
       "      <td>Married</td>\n",
       "      <td>60</td>\n",
       "      <td>14000</td>\n",
       "      <td>0</td>\n",
       "      <td>Loan of government employees- New</td>\n",
       "      <td>326.67</td>\n",
       "      <td>8</td>\n",
       "      <td>0</td>\n",
       "      <td>0</td>\n",
       "      <td>ND</td>\n",
       "    </tr>\n",
       "    <tr>\n",
       "      <th>3</th>\n",
       "      <td>11/3/2004</td>\n",
       "      <td>11/30/2009</td>\n",
       "      <td>Cairo</td>\n",
       "      <td>11/5/1955</td>\n",
       "      <td>M</td>\n",
       "      <td>Married</td>\n",
       "      <td>60</td>\n",
       "      <td>13500</td>\n",
       "      <td>0</td>\n",
       "      <td>Loan of government employees- New</td>\n",
       "      <td>315</td>\n",
       "      <td>8</td>\n",
       "      <td>0</td>\n",
       "      <td>0</td>\n",
       "      <td>ND</td>\n",
       "    </tr>\n",
       "    <tr>\n",
       "      <th>4</th>\n",
       "      <td>11/3/2004</td>\n",
       "      <td>11/30/2009</td>\n",
       "      <td>Cairo</td>\n",
       "      <td>1/20/1965</td>\n",
       "      <td>M</td>\n",
       "      <td>Married</td>\n",
       "      <td>60</td>\n",
       "      <td>13500</td>\n",
       "      <td>0</td>\n",
       "      <td>Loan of government employees- New</td>\n",
       "      <td>315</td>\n",
       "      <td>12</td>\n",
       "      <td>0</td>\n",
       "      <td>0</td>\n",
       "      <td>ND</td>\n",
       "    </tr>\n",
       "  </tbody>\n",
       "</table>\n",
       "</div>"
      ],
      "text/plain": [
       "  Date_Disbursement Date_Maturity  State DAT_BIRTH_CUST TXT_CUST_SEX  \\\n",
       "1        10/28/2004    10/31/2009  Cairo     10/24/1953            F   \n",
       "2         11/3/2004    11/30/2009  Cairo      5/15/1954            M   \n",
       "3         11/3/2004    11/30/2009  Cairo      11/5/1955            M   \n",
       "4         11/3/2004    11/30/2009  Cairo      1/20/1965            M   \n",
       "\n",
       "  MAR_STATUS loan_period loan_amount Balance_Book  \\\n",
       "1    Married          60       23000            0   \n",
       "2    Married          60       14000            0   \n",
       "3    Married          60       13500            0   \n",
       "4    Married          60       13500            0   \n",
       "\n",
       "                          NAM_PRODUCT Installment_amount int_rate  \\\n",
       "1   Loan of government employees- New             536.67        8   \n",
       "2   Loan of government employees- New             326.67        8   \n",
       "3   Loan of government employees- New                315        8   \n",
       "4   Loan of government employees- New                315       12   \n",
       "\n",
       "  Total_Amount_Arrears number_of_installment_Arrear Class  \n",
       "1                    0                            0    ND  \n",
       "2                    0                            0    ND  \n",
       "3                    0                            0    ND  \n",
       "4                    0                            0    ND  "
      ]
     },
     "execution_count": 7,
     "metadata": {},
     "output_type": "execute_result"
    }
   ],
   "source": [
    "result.head(4)"
   ]
  },
  {
   "cell_type": "code",
   "execution_count": 6,
   "metadata": {},
   "outputs": [],
   "source": [
    "result.drop(result.head(1).index, inplace=True)\n"
   ]
  },
  {
   "cell_type": "code",
   "execution_count": 9,
   "metadata": {},
   "outputs": [],
   "source": [
    "df_undersampled = result.drop(result[result['Class'] == 'ND'].sample(frac=0.98, random_state  = 42).index)\n"
   ]
  },
  {
   "cell_type": "code",
   "execution_count": 9,
   "metadata": {},
   "outputs": [
    {
     "data": {
      "text/plain": [
       "<matplotlib.axes._subplots.AxesSubplot at 0x20b01577e10>"
      ]
     },
     "execution_count": 9,
     "metadata": {},
     "output_type": "execute_result"
    },
    {
     "data": {
      "image/png": "[encoded data removed]",
      "text/plain": [
       "<matplotlib.figure.Figure at 0x20b272a8748>"
      ]
     },
     "metadata": {},
     "output_type": "display_data"
    }
   ],
   "source": [
    "df_undersampled['Class'].hist()"
   ]
  },
  {
   "cell_type": "code",
   "execution_count": 10,
   "metadata": {},
   "outputs": [],
   "source": [
    "df_undersampled.to_csv('Data/dataset_undersampled.csv', sep=',')"
   ]
  },
  {
   "cell_type": "markdown",
   "metadata": {},
   "source": [
    "## Dataset Load"
   ]
  },
  {
   "cell_type": "code",
   "execution_count": 3,
   "metadata": {},
   "outputs": [],
   "source": [
    "from pyspark.sql import SQLContext\n",
    "from pyspark.sql.types import *\n",
    "\n",
    "def load_dataset(path):\n",
    "    \"\"\"\n",
    "    Loads the dataset from path into a Spark Dataframe.\n",
    "    \n",
    "    Args\n",
    "    ----------\n",
    "    path : String\n",
    "        Holds the path of the dataset\n",
    "\n",
    "    Returns\n",
    "    -------\n",
    "    Dataframe\n",
    "        Spark dataframe tha holds the records,header and the schema of the dataset.\n",
    "    \"\"\"\n",
    "    sqlContext = SQLContext(sc)\n",
    "    df = sqlContext.read.load(path, \n",
    "                          format='com.databricks.spark.csv', \n",
    "                          header='true', \n",
    "                          inferSchema='true')\n",
    "    return df"
   ]
  },
  {
   "cell_type": "markdown",
   "metadata": {},
   "source": [
    "## Concatenate Dataset"
   ]
  },
  {
   "cell_type": "code",
   "execution_count": 4,
   "metadata": {},
   "outputs": [],
   "source": [
    "from functools import reduce\n",
    "from pyspark.sql import DataFrame\n",
    "\n",
    "def dataframe_union(*dfs):\n",
    "    \"\"\"\n",
    "    Concatenates the provided dataframes.\n",
    "    \n",
    "    Args\n",
    "    ----------\n",
    "    dfs : Positional argument\n",
    "        Holds the dataframes\n",
    "\n",
    "    Returns\n",
    "    -------\n",
    "    Dataframe\n",
    "        Spark dataframe tha holds the concatenated records,header and the schema of the dataset.\n",
    "    \"\"\"\n",
    "    return reduce(DataFrame.unionAll, dfs)  "
   ]
  },
  {
   "cell_type": "markdown",
   "metadata": {},
   "source": [
    "### Replace Column Name Spaces"
   ]
  },
  {
   "cell_type": "code",
   "execution_count": 5,
   "metadata": {},
   "outputs": [],
   "source": [
    "def replaceSpaces(df):  \n",
    "    \"\"\"\n",
    "    Replace spaces with underscore bacause Spark does not handle well columns names that include spaces.\n",
    "    \n",
    "    Args\n",
    "    ----------\n",
    "    df : Dataframe\n",
    "        Holds the dataframe.\n",
    "    \n",
    "    Returns\n",
    "    -------\n",
    "    Dataframe\n",
    "        Spark dataframe with the encoded labels as new vector columns. \n",
    "    \"\"\"\n",
    "    return df.toDF(*(c.replace(' ', '_') for c in df.columns)) # Replace spaces with underscore in column names"
   ]
  },
  {
   "cell_type": "markdown",
   "metadata": {},
   "source": [
    "## 2. Data pre-processing, exploration & visualization: Plotting of target variables and features"
   ]
  },
  {
   "cell_type": "markdown",
   "metadata": {},
   "source": [
    "### Exploring the Data"
   ]
  },
  {
   "cell_type": "code",
   "execution_count": 61,
   "metadata": {},
   "outputs": [
    {
     "name": "stdout",
     "output_type": "stream",
     "text": [
      "+-------+------------------+------------------+------------------+------------------+--------------------+-------+\n",
      "|summary|       loan_amount|      Balance_Book|Installment_amount|          int_rate|Total_Amount_Arrears|  Class|\n",
      "+-------+------------------+------------------+------------------+------------------+--------------------+-------+\n",
      "|  count|           2955874|           2955874|           2955874|           2955874|             2955874|2955874|\n",
      "|   mean|23617.429637518377| 7125.175195427924| 773.4612615324274|18.284991308831078|   57.11183171880801|   null|\n",
      "| stddev|30054.132215979094|23263.835855020414|1306.6271681687922| 8.303440735078656|  1032.5024318897235|   null|\n",
      "|    min|             265.0|               0.0|             12.81|               5.0|              -407.4|      D|\n",
      "|    max|         7000000.0|        5890319.31|        1249680.69|             203.0|           254536.89|     ND|\n",
      "+-------+------------------+------------------+------------------+------------------+--------------------+-------+\n",
      "\n"
     ]
    }
   ],
   "source": [
    "# Provide descriptive statistics \n",
    "dataset_concatenated.describe('loan_amount','Balance_Book','Installment_amount','int_rate','Total_Amount_Arrears','Class').show()\n"
   ]
  },
  {
   "cell_type": "code",
   "execution_count": null,
   "metadata": {},
   "outputs": [],
   "source": [
    "dataset_concatenated"
   ]
  },
  {
   "cell_type": "code",
   "execution_count": 9,
   "metadata": {},
   "outputs": [],
   "source": [
    "# Reduce the columns for examination - Only continuous variables where chosen\n",
    "features_continuous = dataset_concatenated.select('loan_amount','Balance_Book','Installment_amount','int_rate','Total_Amount_Arrears')\n",
    "feature_target = dataset_concatenated.select('Class')"
   ]
  },
  {
   "cell_type": "code",
   "execution_count": 16,
   "metadata": {},
   "outputs": [
    {
     "name": "stdout",
     "output_type": "stream",
     "text": [
      "Default Loan frequency:  98.20540388392739\n",
      "Non-default Loan frequency: 1.7945961160726067\n"
     ]
    }
   ],
   "source": [
    "# Default loans frequency \n",
    "print('Non - Default Loan percentage: ',(feature_target.filter(feature_target.Class == 'ND').count() / dataset_concatenated.count()) * 100)\n",
    "\n",
    "# Non-Default loans frequency \n",
    "print('Default Loan percentage:',(feature_target.filter(feature_target.Class == 'D').count() / dataset_concatenated.count()) * 100)"
   ]
  },
  {
   "cell_type": "code",
   "execution_count": 64,
   "metadata": {},
   "outputs": [
    {
     "name": "stdout",
     "output_type": "stream",
     "text": [
      "+---------+\n",
      "|labelIndx|\n",
      "+---------+\n",
      "|      0.0|\n",
      "|      1.0|\n",
      "+---------+\n",
      "\n"
     ]
    }
   ],
   "source": [
    "from pyspark.ml.feature import StringIndexer\n",
    "\n",
    "# Convert target variable from String to Integer in order to be digested from scatter_plot method below\n",
    "indexer = StringIndexer(inputCol=\"Class\", outputCol=\"labelIndx\")\n",
    "fetureTarget_indexed = indexer.fit(feature_target).transform(feature_target)\n",
    "fetureTarget_indexed.select('labelIndx').distinct().show() # Print unique values\n"
   ]
  },
  {
   "cell_type": "code",
   "execution_count": 65,
   "metadata": {},
   "outputs": [],
   "source": [
    "# Convert from PySpark dataframe to Pandas dataframe for visualization purposes.\n",
    "pdf_pandas_features_continuous = features_continuous.toPandas()\n",
    "pdf_pandas_features_target = fetureTarget_indexed.toPandas()"
   ]
  },
  {
   "cell_type": "code",
   "execution_count": 68,
   "metadata": {},
   "outputs": [],
   "source": [
    "# Dataset sampling.\n",
    "\"\"\"\n",
    "Randomness integrated in the 'sample' method ensures the deversity of the samples drawn and\n",
    "reflects the variation of the original dataset. \n",
    "\"\"\"\n",
    "pdf_pandas_continuous_features_sample = pdf_pandas_features_continuous.sample(frac=0.2, replace=False)\n",
    "pdf_pandas_target_feature_sample = pdf_pandas_features_target.sample(frac=0.2, replace=False)"
   ]
  },
  {
   "cell_type": "markdown",
   "metadata": {},
   "source": [
    "### Visualization : Distribution scatterplots"
   ]
  },
  {
   "cell_type": "code",
   "execution_count": 70,
   "metadata": {},
   "outputs": [
    {
     "data": {
      "image/png": "[encoded data removed]",
      "text/plain": [
       "<matplotlib.figure.Figure at 0x18800b58438>"
      ]
     },
     "metadata": {},
     "output_type": "display_data"
    }
   ],
   "source": [
    "from IPython.display import display # Allows the use of display() for DataFrames\n",
    "import pandas as pd\n",
    "# Pretty display for notebooks\n",
    "%matplotlib inline\n",
    "\n",
    "# Features plotting\n",
    "pd.plotting.scatter_matrix(pdf_pandas_continuous_features_sample, alpha = 0.3, figsize = (14,8), diagonal = 'kde');"
   ]
  },
  {
   "cell_type": "code",
   "execution_count": 15,
   "metadata": {},
   "outputs": [
    {
     "data": {
      "image/png": "[encoded data removed]",
      "text/plain": [
       "<matplotlib.figure.Figure at 0x19e82acbf28>"
      ]
     },
     "metadata": {},
     "output_type": "display_data"
    }
   ],
   "source": [
    "# Target variable visualization\n",
    "pd.plotting.scatter_matrix(pdf_pandas_target_feature_sample, alpha = 0.3, figsize = (14,8), diagonal = 'kde');"
   ]
  },
  {
   "cell_type": "markdown",
   "metadata": {},
   "source": [
    "## Pre-processing"
   ]
  },
  {
   "cell_type": "markdown",
   "metadata": {},
   "source": [
    "### Feature Standarization"
   ]
  },
  {
   "cell_type": "code",
   "execution_count": 6,
   "metadata": {},
   "outputs": [],
   "source": [
    "from pyspark.sql.functions import stddev, mean, col\n",
    "\n",
    "\n",
    "def standarization(cols, df):\n",
    "    \"\"\"\n",
    "    Calculates the mean and standard deviation of the imported columns and then standarizes the columns \n",
    "    \n",
    "    Args\n",
    "    ----------\n",
    "    cols : List\n",
    "        Holds the column names.\n",
    "    \n",
    "    df : Dataframe\n",
    "        Holds the dataframe.\n",
    "        \n",
    "    Returns\n",
    "    -------\n",
    "    Dataframe\n",
    "        Spark dataframe with standarized columns. \n",
    "    \"\"\"\n",
    "    for colName in cols:\n",
    "        col_mean, col_stddev =  df.select(mean(df[colName]), stddev(df[colName])).first()\n",
    "        df = df.withColumn(colName, (df[colName] - col_mean) / col_stddev)\n",
    "\n",
    "    return df"
   ]
  },
  {
   "cell_type": "code",
   "execution_count": 7,
   "metadata": {},
   "outputs": [],
   "source": [
    "def normalization(cols, df):\n",
    "    \"\"\"\n",
    "    Calculates the mean and standard deviation of the imported columns and then standarizes the columns \n",
    "    \n",
    "    Args\n",
    "    ----------\n",
    "    cols : List\n",
    "        Holds the column names.\n",
    "    \n",
    "    df : Dataframe\n",
    "        Holds the dataframe.\n",
    "        \n",
    "    Returns\n",
    "    -------\n",
    "    Dataframe\n",
    "        Spark dataframe with standarized columns. \n",
    "    \"\"\"\n",
    "    for colName in cols:\n",
    "        maxVal = df.agg({colName: \"max\"}).collect()[0][0]\n",
    "        minVal = df.agg({colName: \"min\"}).collect()[0][0]\n",
    "        df = df.withColumn(colName, (df[colName] - minVal) / (maxVal - minVal))\n",
    "    return df"
   ]
  },
  {
   "cell_type": "code",
   "execution_count": 8,
   "metadata": {},
   "outputs": [],
   "source": [
    "from functools import reduce\n",
    "from pyspark.sql import DataFrame\n",
    "def redundantColumnsDrop (cols,df):\n",
    "    \"\"\"\n",
    "    Removes the columns left from StrtingToIndex and OneHotEncoding conversions.\n",
    "    \n",
    "    Args\n",
    "    ----------\n",
    "    *cols : Positional argument\n",
    "        Holds the redundant column names.\n",
    "        \n",
    "    Returns\n",
    "    -------\n",
    "    Dataframe\n",
    "        Spark dataframe without the unnecessary columns. \n",
    "    \"\"\"\n",
    "    return reduce(DataFrame.drop, cols, df)"
   ]
  },
  {
   "cell_type": "markdown",
   "metadata": {},
   "source": [
    "### Convert date columns "
   ]
  },
  {
   "cell_type": "code",
   "execution_count": 9,
   "metadata": {},
   "outputs": [],
   "source": [
    "from datetime import datetime\n",
    "from pyspark.sql.functions import col, udf\n",
    "from pyspark.sql.functions import to_timestamp\n",
    "\n",
    "def columnsConvert(df): \n",
    "    \"\"\"\n",
    "    Convert the date columns from StringType to DateType() using user defined function.\n",
    "\n",
    "    Args\n",
    "    ----------\n",
    "    df : Dataframe\n",
    "        Holds the dataframe.\n",
    "\n",
    "    Returns\n",
    "    -------\n",
    "    Dataframe\n",
    "        Spark dataframe with all the columns that include dates converted from StringType() to DateTyoe().\n",
    "    \"\"\"\n",
    "    dateType_func = udf (lambda x: datetime.strptime(x, '%m/%d/%Y'), DateType()) # \n",
    "\n",
    "    df = (df.withColumn('Date_Disbursement', dateType_func(col('Date_Disbursement')))\n",
    "               .withColumn('Date_Maturity', dateType_func(col('Date_Maturity')))\n",
    "               .withColumn('DAT_BIRTH_CUST', dateType_func(col('DAT_BIRTH_CUST'))))\n",
    "    \n",
    "    return df"
   ]
  },
  {
   "cell_type": "markdown",
   "metadata": {},
   "source": [
    "### Calculate Age"
   ]
  },
  {
   "cell_type": "code",
   "execution_count": 10,
   "metadata": {},
   "outputs": [],
   "source": [
    "from dateutil.relativedelta import *\n",
    "from datetime import date\n",
    "\n",
    "def ageCalculate(date_year,date_monh,date_day):\n",
    "    \"\"\"\n",
    "    Calculates the age of the customer based on the current and birth date. UDF is going to be used to wrap this function.\n",
    "    \n",
    "    Args\n",
    "    ----------\n",
    "    date_year : Integer\n",
    "        Holds the year born.\n",
    "    \n",
    "    date_monh : Integer\n",
    "        Holds the month born.\n",
    "        \n",
    "    date_day : Integer\n",
    "        Holds the day born.\n",
    "    \n",
    "    Returns\n",
    "    -------\n",
    "    Integer\n",
    "        Returns the the calculated age of the customer. \n",
    "    \"\"\"\n",
    "    today = date.today()  \n",
    "    dob = date(date_year,date_monh, date_day)\n",
    "    age = relativedelta(today, dob)\n",
    "    return age.years"
   ]
  },
  {
   "cell_type": "code",
   "execution_count": 38,
   "metadata": {},
   "outputs": [],
   "source": [
    "from datetime import date\n",
    "from pyspark.sql.functions import year, month, dayofmonth\n",
    "from pyspark.sql.types import IntegerType\n",
    "from datetime import date, timedelta\n",
    "\n",
    "# Get the current date\n",
    "today = date.today() \n",
    "\n",
    "# Define the 'ageCalcule' function.\n",
    "ageCalculation_func = udf(ageCalculate, IntegerType()) \n",
    "\n",
    "# Calculate age based on the column that holds the DoB.\n",
    "df_final = (df_final.withColumn('DAT_BIRTH_CUST', ageCalculation_func(year(col(\"DAT_BIRTH_CUST\")),month(col(\"DAT_BIRTH_CUST\")),dayofmonth(col(\"DAT_BIRTH_CUST\")))))\n"
   ]
  },
  {
   "cell_type": "markdown",
   "metadata": {},
   "source": [
    "### Feature Engineering "
   ]
  },
  {
   "cell_type": "markdown",
   "metadata": {},
   "source": [
    "#### Year feture extraction"
   ]
  },
  {
   "cell_type": "code",
   "execution_count": 11,
   "metadata": {},
   "outputs": [],
   "source": [
    "from pyspark.sql.functions import year, month, dayofmonth,unix_timestamp\n",
    "\n",
    "def featureExtractionYear(df): \n",
    "    \"\"\"\n",
    "    Engineers new features from the date columns. It extracts Years and saves them into different columns.\n",
    "\n",
    "    Args\n",
    "    ----------\n",
    "    df : Dataframe\n",
    "        Holds the dataframe.\n",
    "\n",
    "    Returns\n",
    "    -------\n",
    "    Dataframe\n",
    "        Returns the dataframe with the extracted features and new columns. \n",
    "    \"\"\"\n",
    "\n",
    "    df = (df.withColumn('disbursement_year', year(col('Date_Disbursement')))\n",
    "                .withColumn('maturity_year', year(col('Date_Maturity'))))\n",
    "\n",
    "    return df\n"
   ]
  },
  {
   "cell_type": "code",
   "execution_count": 12,
   "metadata": {},
   "outputs": [],
   "source": [
    "from pyspark.sql.functions import year, month, dayofmonth,unix_timestamp\n",
    "\n",
    "def featureExtractionDayMonth(df): \n",
    "    \"\"\"\n",
    "    Engineers new features from the date columns. It extracts Years and saves them into different columns.\n",
    "\n",
    "    Args\n",
    "    ----------\n",
    "    df : Dataframe\n",
    "        Holds the dataframe.\n",
    "\n",
    "    Returns\n",
    "    -------\n",
    "    Dataframe\n",
    "        Returns the dataframe with the extracted features and new columns. \n",
    "    \"\"\"\n",
    "\n",
    "    df = (df.withColumn('disbursement_month', month(col('Date_Disbursement')))\n",
    "                .withColumn('maturity_month', month(col('Date_Maturity')))\n",
    "                 .withColumn('maturity_day', dayofmonth(col('Date_Maturity')))\n",
    "                 .withColumn('disbursement_day', dayofmonth(col('Date_Disbursement'))))\n",
    "\n",
    "    return df"
   ]
  },
  {
   "cell_type": "markdown",
   "metadata": {},
   "source": [
    "### Date Feature Transformation"
   ]
  },
  {
   "cell_type": "code",
   "execution_count": 13,
   "metadata": {},
   "outputs": [],
   "source": [
    "import math\n",
    "\n",
    "def cyclicTransofrmation(df):\n",
    "    \"\"\"\n",
    "    Transforms the extracted features, month and dayofmonth, using fourier transformations. \n",
    "    Dates are considered cyclical variables, hence the similarity between e.g. month 12 and 1 is very big, \n",
    "    however without the tranformation the distance of these two months for example is very high which is unwanted result. \n",
    "    \n",
    "    Args\n",
    "    ----------\n",
    "    df : Dataframe\n",
    "        Holds the dataframe.\n",
    "    \n",
    "    Returns\n",
    "    -------\n",
    "    Dataframe\n",
    "        Returns dataframe including sin and cos tranformations of months and dayofmonh, as newely engineered features of the dataset. \n",
    "    \"\"\"\n",
    "    \n",
    "    func_month_sin_tranformation = udf(lambda x:math.sin((x - 1)*(2.*math.pi/12)), returnType=FloatType()) # Sin tranformation of the year\n",
    "    func_month_cos_tranformation = udf(lambda x:math.cos((x - 1)*(2.*math.pi/12)), returnType=FloatType()) # Cos transformation of the year\n",
    "\n",
    "    func_days_of_month_sin_transformation = udf(lambda x : math.sin((2*math.pi)/30*x), returnType=FloatType()) # Sin transformation of the month\n",
    "    func_days_of_month_cos_transformation = udf(lambda x : math.cos((2*math.pi)/30*x), returnType=FloatType()) # Cos transformation of the month\n",
    "\n",
    "    # Feature engineering\n",
    "    df = (df.withColumn('Date_Disbursement_sin_month',  func_month_sin_tranformation(month(col('Date_Disbursement'))))\n",
    "                .withColumn('Date_Disbursement_cos_month',func_month_cos_tranformation(month(col('Date_Disbursement'))))\n",
    "                .withColumn('maturity_sin_month',func_month_sin_tranformation(month(col('Date_Maturity'))))\n",
    "                .withColumn('maturity_cos_month',func_month_cos_tranformation(month(col('Date_Maturity'))))\n",
    "                .withColumn('Date_Disbursement_sin_dayofmonth', func_days_of_month_sin_transformation(dayofmonth(col('Date_Disbursement'))))\n",
    "                .withColumn('Date_Disbursement_cos_dayofmonth', func_days_of_month_cos_transformation(dayofmonth(col('Date_Disbursement'))))\n",
    "                .withColumn('maturity_sin_dayofmonth',func_days_of_month_sin_transformation(dayofmonth(col('Date_Maturity'))))\n",
    "                .withColumn('maturity_cos_dayofmonth',func_days_of_month_cos_transformation(dayofmonth(col('Date_Maturity'))))\n",
    "               )\n",
    "    return df      "
   ]
  },
  {
   "cell_type": "markdown",
   "metadata": {},
   "source": [
    "## Categorical Encoding "
   ]
  },
  {
   "cell_type": "markdown",
   "metadata": {},
   "source": [
    "### Indexing, Assembling & Categorical encoding "
   ]
  },
  {
   "cell_type": "markdown",
   "metadata": {},
   "source": [
    "#### Catecorical variables indexing/encoding/assembling steps"
   ]
  },
  {
   "cell_type": "code",
   "execution_count": 14,
   "metadata": {},
   "outputs": [],
   "source": [
    "### Indexing and One-Hot Encoding\n",
    "from pyspark.ml import Pipeline\n",
    "from pyspark.ml.feature import OneHotEncoder, StringIndexer, VectorAssembler\n",
    "\n",
    "def stagesPipeline(categoricalColumns, numericCols):\n",
    "    \"\"\"\n",
    "    Creates a pipeline of indexers and categorical encoders converts the string labels of the chosen columns into numerical values (indexes).\n",
    "    The creates encoders in order to covnert indexes to categorical vectors. Finally, feature assemblers are created and return in the form of a list.\n",
    "    \n",
    "    Args\n",
    "    ----------\n",
    "    colNames : List\n",
    "        Holds the column names.\n",
    "        \n",
    "    Returns\n",
    "    -------\n",
    "    Stages : List\n",
    "        A list with the indexers, encoders and assembler steps. \n",
    "    \"\"\"\n",
    "    stages = [] # stages in our Pipeline\n",
    "    for categoricalCol in categoricalColumns:\n",
    "      # Category Indexing with StringIndexer\n",
    "      stringIndexer = StringIndexer(inputCol=categoricalCol, outputCol=categoricalCol+\"Index\",handleInvalid = 'skip')\n",
    "      # Use OneHotEncoder to convert categorical variables into binary SparseVectors\n",
    "      encoder = OneHotEncoder(inputCol=categoricalCol+\"Index\", outputCol=categoricalCol+\"classVec\")\n",
    "      # Add stages.  These are not run here, but will run all at once later on.\n",
    "      stages += [stringIndexer, encoder]\n",
    "        \n",
    "    # Creates an index of the target variable.\n",
    "    label_stringIdx = StringIndexer(inputCol = \"Class\", outputCol = \"label\")\n",
    "    stages += [label_stringIdx]\n",
    "    \n",
    "    # Transform all features into a vector using VectorAssembler\n",
    "    assemblerInputs =list(map(lambda c: c + \"classVec\", categoricalColumns)) + numericCols\n",
    "    assembler = VectorAssembler(inputCols=assemblerInputs, outputCol=\"features\")\n",
    "    stages += [assembler]\n",
    "    \n",
    "    return stages"
   ]
  },
  {
   "cell_type": "markdown",
   "metadata": {},
   "source": [
    "#### Create pipeline"
   ]
  },
  {
   "cell_type": "code",
   "execution_count": 15,
   "metadata": {},
   "outputs": [],
   "source": [
    "from pyspark.ml import Pipeline\n",
    "def pipelineFunc(stages, df):      \n",
    "    \"\"\"\n",
    "    Run the feature transformations.\n",
    "    \n",
    "    Args\n",
    "    ----------\n",
    "    stages : List\n",
    "        Holds the stages for the pipeline.\n",
    "        \n",
    "    Returns\n",
    "    -------\n",
    "    dataset : Dataframe\n",
    "        Tranformed dataset. \n",
    "    \"\"\"\n",
    "\n",
    "    pipeline = Pipeline(stages=stages)\n",
    "    pipelineModel = pipeline.fit(df)#  - fit() computes feature statistics as needed.\n",
    "    dataset = pipelineModel.transform(df)# - transform() actually transforms the features.\n",
    "    display(dataset)\n",
    "    return dataset"
   ]
  },
  {
   "cell_type": "code",
   "execution_count": 16,
   "metadata": {},
   "outputs": [],
   "source": [
    "from datetime import date\n",
    "from pyspark.sql.functions import year, month, dayofmonth\n",
    "from pyspark.sql.types import IntegerType\n",
    "from datetime import date, timedelta\n",
    "\n",
    "def dataLoadPreprocess(Normalization, Standarization, df):\n",
    "    # Load individual datasets    \n",
    "    cols = ['loan_period','loan_amount','Balance_Book','Installment_amount','int_rate','Total_Amount_Arrears']\n",
    "    \n",
    "    # Convert StringType() columns that contain dates to DateType()\n",
    "    df = columnsConvert(df)\n",
    "    \n",
    "    # Get the current date\n",
    "    today = date.today() \n",
    "\n",
    "    # Define the 'ageCalcule' function.\n",
    "    ageCalculation_func = udf(ageCalculate, IntegerType()) \n",
    "\n",
    "    # Calculate age based on the column that holds the DoB.\n",
    "    df = (df.withColumn('DAT_BIRTH_CUST', ageCalculation_func(year(col(\"DAT_BIRTH_CUST\")),month(col(\"DAT_BIRTH_CUST\")),dayofmonth(col(\"DAT_BIRTH_CUST\")))))\n",
    "\n",
    "    df = featureExtractionYear(df)\n",
    "\n",
    "    df = featureExtractionDayMonth(df)\n",
    "    \n",
    "    if Normalization : \n",
    "        print('Normalized')\n",
    "        df = normalization(cols, df) # Normalize numerical columns\n",
    "    else:\n",
    "        df = standarization(cols, df) # Standarize numerical columns\n",
    "    \n",
    "\n",
    "    \n",
    "\n",
    "    #df = cyclicTransofrmation(df)\n",
    "\n",
    "    categoricalColumns = [\"State\",\"TXT_CUST_SEX\", \"MAR_STATUS\",\"NAM_PRODUCT\"]\n",
    "    #numericColumns = ['loan_period','loan_amount','Balance_Book','Installment_amount','int_rate','Total_Amount_Arrears','number_of_installment_Arrear','disbursement_year','maturity_year','Date_Disbursement_sin_month','Date_Disbursement_cos_month','maturity_sin_month','maturity_cos_month','Date_Disbursement_sin_dayofmonth','Date_Disbursement_cos_dayofmonth','maturity_sin_dayofmonth','maturity_cos_dayofmonth']\n",
    "    numericColumns = ['loan_period','loan_amount','Balance_Book','Installment_amount','int_rate','Total_Amount_Arrears','number_of_installment_Arrear','disbursement_year','maturity_year','disbursement_month','maturity_month','disbursement_day','maturity_day']\n",
    "\n",
    "    stages = stagesPipeline(categoricalColumns,numericColumns)\n",
    "\n",
    "    dataset = pipelineFunc(stages, df)\n",
    "    \n",
    "    return dataset"
   ]
  },
  {
   "cell_type": "markdown",
   "metadata": {},
   "source": [
    "#### Dataset Split"
   ]
  },
  {
   "cell_type": "code",
   "execution_count": 17,
   "metadata": {},
   "outputs": [],
   "source": [
    "def train_test_split(df):\n",
    "    \"\"\"\n",
    "    Spits the dataset into training and testing sub-datasets using randomSplit() function.\n",
    "    \n",
    "    Args\n",
    "    ----------\n",
    "    df : Dataframe\n",
    "        Holds the dataframe.\n",
    "        \n",
    "    Returns\n",
    "    -------\n",
    "    (train, test) : Dataframe\n",
    "        Splitted dataset. \n",
    "    \"\"\"\n",
    "    #dataset_reduced = dataset.select('features','label')\n",
    "    #(train, test) = df.randomSplit([0.7, 0.3], seed = 100)\n",
    "    #t1 = train.sample(False, 0.001, 42)\n",
    "    #t2 = test.sample(False, 0.001, 43)\n",
    "    return df.select('features','label').randomSplit([0.7, 0.3],seed = 100)"
   ]
  },
  {
   "cell_type": "code",
   "execution_count": 18,
   "metadata": {},
   "outputs": [],
   "source": [
    "from pyspark.ml.classification import MultilayerPerceptronClassifier, LinearSVC, DecisionTreeClassifier,LogisticRegression,RandomForestClassifier,GBTClassifier\n",
    "from pyspark.ml.classification import RandomForestClassifier \n",
    "\n",
    "def estimators():\n",
    "    \"\"\"\n",
    "    Defines estimators.\n",
    "    \n",
    "    Args\n",
    "    ----------\n",
    "    None\n",
    "        \n",
    "    Returns\n",
    "    -------\n",
    "    List of classifiers\n",
    "     \n",
    "    \"\"\"\n",
    "    LR  = LogisticRegression(featuresCol='features', labelCol='label')\n",
    "    SVM = LinearSVC(featuresCol='features', labelCol='label')\n",
    "    GT  = GBTClassifier(featuresCol=\"features\", labelCol=\"label\",seed=42)\n",
    "    DT  = DecisionTreeClassifier(featuresCol='features', labelCol='label', impurity = 'gini',seed = 42)\n",
    "    NN  = MultilayerPerceptronClassifier(featuresCol='features', labelCol='label', layers = [97, 65, 32, 2], seed = 42)\n",
    "    RF = RandomForestClassifier(labelCol='label', featuresCol='features')\n",
    "    return [LR,SVM,GT,DT,NN,RF]"
   ]
  },
  {
   "cell_type": "code",
   "execution_count": 19,
   "metadata": {},
   "outputs": [],
   "source": [
    "from pyspark.ml.tuning import ParamGridBuilder,  CrossValidator\n",
    "\n",
    "def hyperParameters(estimators):\n",
    "    \"\"\"\n",
    "    Constructs the parameters for the optimization process.\n",
    "    \n",
    "    Args\n",
    "    ----------\n",
    "    estimators : List\n",
    "        Holds the estimators.\n",
    "        \n",
    "    Returns\n",
    "    -------\n",
    "    List of grid parameters. \n",
    "    \"\"\"\n",
    "    paramGridLR = (ParamGridBuilder()\n",
    "                 .addGrid(estimators[0].regParam, [0.01, 0.5, 2.0])\n",
    "                 .addGrid(estimators[0].elasticNetParam, [0.0, 0.5, 1.0])\n",
    "                 .addGrid(estimators[0].maxIter, [10,30,50,70,100,150])\n",
    "                 .build())\n",
    "\n",
    "    paramGridSVM = (ParamGridBuilder()\n",
    "                 .addGrid(estimators[1].maxIter, [1, 5, 10, 50,100,150])\n",
    "                 .addGrid(estimators[1].tol, [1e-02, 1e-05,1e-06, 1e-08])\n",
    "                 .addGrid(estimators[1].fitIntercept, [True, False])\n",
    "                 .addGrid(estimators[1].standardization, [False])\n",
    "                 .addGrid(estimators[1].threshold, [0.0, 0.2, 0.5, 0.7, 0.8])\n",
    "                 .addGrid(estimators[1].aggregationDepth, [2,3,4,5,6,8,10,12])\n",
    "                 .build())\n",
    "\n",
    "    paramGridGT = (ParamGridBuilder()\n",
    "                 .addGrid(estimators[2].maxIter, [1, 5, 10, 50,100,150])\n",
    "                 .addGrid(estimators[2].maxDepth, [1,2,6,8,10])\n",
    "                 \n",
    "                 .addGrid(estimators[2].maxBins, [20,30,40])\n",
    "                 .build())\n",
    "\n",
    "    paramGridDT = (ParamGridBuilder()\n",
    "                 .addGrid(estimators[3].maxDepth, [1,2,6,8])\n",
    "                 .addGrid(estimators[3].maxBins, [20,30,40])\n",
    "                 .build())\n",
    "\n",
    "    paramGridNN = (ParamGridBuilder()\n",
    "                 .addGrid(estimators[4].maxIter, [10,30,50,70,100])\n",
    "                 .addGrid(estimators[4].tol, [1e-02,1e-04,1e-06])\n",
    "                 .addGrid(estimators[4].blockSize, [32,64,128,256]) \n",
    "                 .addGrid(estimators[4].solver, ['l-bfgs','gd'])  \n",
    "                 .addGrid(estimators[4].stepSize, [0.02, 0.03,0.05])  \n",
    "                 .build())\n",
    "\n",
    "    paramGridRF = (ParamGridBuilder()\n",
    "                 .addGrid(estimators[5].maxDepth, [1,2,6,10])\n",
    "                 .addGrid(estimators[5].maxBins, [16,32,64,128])\n",
    "                 .addGrid(estimators[5].impurity, ['gini','entropy'])\n",
    "                 .addGrid(estimators[5].featureSubsetStrategy, ['all', 'sqrt', 'log2'])\n",
    "                 .addGrid(estimators[5].numTrees, [10,20,50,100,150])\n",
    "                 .build())\n",
    "    \n",
    "    return [paramGridLR,paramGridSVM,paramGridGT,paramGridDT,paramGridNN,paramGridRF]"
   ]
  },
  {
   "cell_type": "code",
   "execution_count": 30,
   "metadata": {},
   "outputs": [],
   "source": [
    "row = dataset_scaled.select('features').first()\n",
    "len(row.features) # Cound the number of input features for the Neural Network."
   ]
  },
  {
   "cell_type": "code",
   "execution_count": 20,
   "metadata": {},
   "outputs": [],
   "source": [
    "from sklearn.metrics import roc_curve, auc\n",
    "from pyspark.mllib.evaluation import BinaryClassificationMetrics as metric\n",
    "from matplotlib import pyplot as plt\n",
    "\n",
    "def vizualization(transformed, name):\n",
    "    \"\"\"\n",
    "    Visualizes performance.\n",
    "    \n",
    "    Args\n",
    "    ----------\n",
    "    transformed : Dataframe\n",
    "        Normalized or Standarized dataset.\n",
    "    \n",
    "    name : Object \n",
    "        Name of the estimator.\n",
    "        \n",
    "    \"\"\"\n",
    "    results = transformed.select(['probability', 'label'])\n",
    " \n",
    "    ## prepare score-label set\n",
    "    results_collect = results.collect()\n",
    "    results_list = [(float(i[0][0]), 1.0-float(i[1])) for i in results_collect]\n",
    "    scoreAndLabels = sc.parallelize(results_list)\n",
    "\n",
    "    metrics = metric(scoreAndLabels)\n",
    "    print(\"The ROC score is (\", name,\"): \", metrics.areaUnderROC)\n",
    "    \n",
    "    \n",
    " \n",
    "    fpr = dict()\n",
    "    tpr = dict()\n",
    "    roc_auc = dict()\n",
    "\n",
    "    y_test = [i[1] for i in results_list]\n",
    "    y_score = [i[0] for i in results_list]\n",
    "\n",
    "    fpr, tpr, _ = roc_curve(y_test, y_score)\n",
    "    roc_auc = auc(fpr, tpr)\n",
    "\n",
    "    %matplotlib inline\n",
    "    plt.figure()\n",
    "    plt.plot(fpr, tpr, label='ROC curve (area = %0.2f)' % roc_auc)\n",
    "    plt.plot([0, 1], [0, 1], 'k--')\n",
    "    plt.xlim([0.0, 1.0])\n",
    "    plt.ylim([0.0, 1.05])\n",
    "    plt.xlabel('False Positive Rate')\n",
    "    plt.ylabel('True Positive Rate')\n",
    "    plt.title('Receiver operating characteristic example')\n",
    "    plt.legend(loc=\"lower right\")\n",
    "    plt.show()"
   ]
  },
  {
   "cell_type": "markdown",
   "metadata": {},
   "source": [
    "### Model Training, Selection and Evaluation"
   ]
  },
  {
   "cell_type": "code",
   "execution_count": 21,
   "metadata": {},
   "outputs": [],
   "source": [
    "from time import time\n",
    "from pyspark.ml.evaluation import BinaryClassificationEvaluator,MulticlassClassificationEvaluator\n",
    "\n",
    "def modelTraining(classifiers, parameters, evaluator, train, test):\n",
    "    \"\"\"\n",
    "    Initiates training process.\n",
    "    \n",
    "    Args\n",
    "    ----------\n",
    "    classifiers : List\n",
    "        Holds the estimators.\n",
    "    \n",
    "    parameters : List\n",
    "        Holds the parameter grids.\n",
    "        \n",
    "    evaluator : Object\n",
    "        Holds the type of object that evaluates the the estimator.\n",
    "    \n",
    "    train : dataframe\n",
    "        Holds the train set.\n",
    "    \n",
    "    test : dataframe\n",
    "        Holds the test set.\n",
    "        \n",
    "    Returns\n",
    "    -------\n",
    "    List of grid parameters. \n",
    "    \"\"\"\n",
    "    \n",
    "    log_cols=[\"Classifier\", \"Area Under R0C - Accuracy\", 'Area Under PR',\"Test Error ROC\",\"Test Error PRC\",\"CrossVal Performance\",\"Model\"]\n",
    "    log = pd.DataFrame(columns=log_cols)\n",
    "    \n",
    "    for clf, params in zip(classifiers, parameters):\n",
    "        \n",
    "        name = clf.__class__.__name__ # Get classifier's name\n",
    "        cv = CrossValidator(estimator=clf, estimatorParamMaps=params, evaluator=evaluator, numFolds=10) # Cros-validation\n",
    "        t0 = time()\n",
    "        cvModel = cv.fit(train) # Training.\n",
    "        tt = time() - t0\n",
    "        \n",
    "        # Model evaluation\n",
    "        predictions = cvModel.transform(test) \n",
    "        auroc = evaluator.evaluate(predictions, {evaluator.metricName: \"areaUnderROC\"})\n",
    "        aupr = evaluator.evaluate(predictions, {evaluator.metricName: \"areaUnderPR\"})\n",
    "        \n",
    "        # Performance Visualization\n",
    "        vizualization(predictions, name)\n",
    "        \n",
    "        # Avergage performance\n",
    "        avgMetrics = cvModel.avgMetrics\n",
    "        \n",
    "    \n",
    "        # Create (prediction, label) pairs\n",
    "        predictionAndLabel = predictions.select(\"prediction\", \"label\").rdd\n",
    "\n",
    "        # Generate confusion matrix\n",
    "        metrics = MulticlassMetrics(predictionAndLabel)\n",
    "        print (metrics.confusionMatrix())\n",
    "        \n",
    "        print(\"=\"*30)\n",
    "        print(name)     \n",
    "        print('****Results****')\n",
    "        print(\"Training Time {:.4%}\".format(tt))\n",
    "        print(\"ROC: {:.4%}\".format(auroc))\n",
    "        print(\"PRC: {:.4%}\".format(aupr))\n",
    "        print(\"Test Error ROC= %g \" % (1.0 - auroc))\n",
    "        print(\"Test Error PRC= %g \" % (1.0 - aupr))\n",
    "        print(\"=\"*30)\n",
    "        \n",
    "        # Save the data to a log\n",
    "        log_entry = pd.DataFrame([[name, auroc*100,aupr*100 ,1.0 - auroc,1.0 - aupr, avgMetrics,cvModel.bestModel]], columns=log_cols)\n",
    "        try:\n",
    "            cvModel.save('models' + cvModel.bestModel)\n",
    "        except:\n",
    "            print('Model not saved')\n",
    "        \n",
    "            \n",
    "    log = log.append(log_entry)\n",
    "    return log"
   ]
  },
  {
   "cell_type": "code",
   "execution_count": 22,
   "metadata": {},
   "outputs": [],
   "source": [
    "#dataset = load_dataset('Data/dataset_undersampled.csv')\n",
    "df_first = load_dataset('Data/salma_31-12-2017_sheet_1.csv') # First sheet\n",
    "df_second = load_dataset('Data/salma_31-12-2017_sheet_2.csv') # Second sheet\n",
    "df_third = load_dataset('Data/salma_31-12-2017_sheet_3.csv') # Third sheet\n",
    "\n",
    "dataset.printSchema()\n",
    "\n",
    "# Concatenate datasets\n",
    "dataset_concatenated = dataframe_union(*[df_first, df_second, df_third]) # Concatenate all the loaded dataframes.\n",
    "\n",
    "# Replace space in the names \n",
    "dataset = replaceSpaces(dataset_concatenated)\n",
    "\n",
    "# Strip white spaces\n",
    "dataset = redundantColumnsDrop(['_c0'],dataset)\n",
    "#dataset_concatenated.printSchema()"
   ]
  },
  {
   "cell_type": "code",
   "execution_count": 29,
   "metadata": {},
   "outputs": [
    {
     "name": "stdout",
     "output_type": "stream",
     "text": [
      "root\n",
      " |-- Date_Disbursement: string (nullable = true)\n",
      " |-- Date_Maturity: string (nullable = true)\n",
      " |-- State: string (nullable = true)\n",
      " |-- DAT_BIRTH_CUST: string (nullable = true)\n",
      " |-- TXT_CUST_SEX: string (nullable = true)\n",
      " |-- MAR_STATUS: string (nullable = true)\n",
      " |-- loan_period: integer (nullable = true)\n",
      " |-- loan_amount: double (nullable = true)\n",
      " |-- Balance_Book: double (nullable = true)\n",
      " |-- NAM_PRODUCT: string (nullable = true)\n",
      " |-- Installment_amount: double (nullable = true)\n",
      " |-- int_rate: double (nullable = true)\n",
      " |-- Total_Amount_Arrears: double (nullable = true)\n",
      " |-- number_of_installment_Arrear: integer (nullable = true)\n",
      " |-- Class: string (nullable = true)\n",
      "\n"
     ]
    }
   ],
   "source": [
    "dataset.printSchema()"
   ]
  },
  {
   "cell_type": "code",
   "execution_count": 23,
   "metadata": {},
   "outputs": [
    {
     "name": "stdout",
     "output_type": "stream",
     "text": [
      "Normalized\n"
     ]
    },
    {
     "data": {
      "text/plain": [
       "DataFrame[Date_Disbursement: date, Date_Maturity: date, State: string, DAT_BIRTH_CUST: int, TXT_CUST_SEX: string, MAR_STATUS: string, loan_period: double, loan_amount: double, Balance_Book: double, NAM_PRODUCT: string, Installment_amount: double, int_rate: double, Total_Amount_Arrears: double, number_of_installment_Arrear: int, Class: string, disbursement_year: int, maturity_year: int, disbursement_month: int, maturity_month: int, maturity_day: int, disbursement_day: int, StateIndex: double, StateclassVec: vector, TXT_CUST_SEXIndex: double, TXT_CUST_SEXclassVec: vector, MAR_STATUSIndex: double, MAR_STATUSclassVec: vector, NAM_PRODUCTIndex: double, NAM_PRODUCTclassVec: vector, label: double, features: vector]"
      ]
     },
     "metadata": {},
     "output_type": "display_data"
    }
   ],
   "source": [
    "dataset_scaled = dataLoadPreprocess(True, False,dataset)\n",
    "(train,test) = train_test_split(dataset_scaled)"
   ]
  },
  {
   "cell_type": "code",
   "execution_count": null,
   "metadata": {},
   "outputs": [
    {
     "name": "stdout",
     "output_type": "stream",
     "text": [
      "The ROC score is ( LogisticRegression ):  0.9795303957828645\n"
     ]
    },
    {
     "data": {
      "image/png": "[encoded data removed]",
      "text/plain": [
       "<matplotlib.figure.Figure at 0x20b1a53aba8>"
      ]
     },
     "metadata": {},
     "output_type": "display_data"
    },
    {
     "name": "stdout",
     "output_type": "stream",
     "text": [
      "==============================\n",
      "LogisticRegression\n",
      "****Results****\n",
      "Training Time \n",
      "ROC: 97.9530%\n",
      "PRC: 98.1347%\n",
      "Test Error ROC= 0.0204696 \n",
      "Test Error PRC= 0.0186532 \n",
      "==============================\n",
      "Model not saved\n"
     ]
    }
   ],
   "source": [
    "from pyspark.ml.evaluation import BinaryClassificationEvaluator,MulticlassClassificationEvaluator\n",
    "\n",
    "results_log = modelTraining(classifiers ,hyper_parameters, evaluator, train, test)"
   ]
  }
 ],
 "metadata": {
  "kernelspec": {
   "display_name": "Python 3",
   "language": "python",
   "name": "python3"
  },
  "language_info": {
   "codemirror_mode": {
    "name": "ipython",
    "version": 3
   },
   "file_extension": ".py",
   "mimetype": "text/x-python",
   "name": "python",
   "nbconvert_exporter": "python",
   "pygments_lexer": "ipython3",
   "version": "3.6.5"
  }
 },
 "nbformat": 4,
 "nbformat_minor": 2
}
